{
  "nbformat": 4,
  "nbformat_minor": 0,
  "metadata": {
    "colab": {
      "provenance": [],
      "authorship_tag": "ABX9TyOOZoc6FZNYTMHx3hr7x3J6",
      "include_colab_link": true
    },
    "kernelspec": {
      "name": "python3",
      "display_name": "Python 3"
    },
    "language_info": {
      "name": "python"
    }
  },
  "cells": [
    {
      "cell_type": "markdown",
      "metadata": {
        "id": "view-in-github",
        "colab_type": "text"
      },
      "source": [
        "<a href=\"https://colab.research.google.com/github/emersonmrd/deep_learning_for_computer_vision/blob/main/tensorflowbasic.ipynb\" target=\"_parent\"><img src=\"https://colab.research.google.com/assets/colab-badge.svg\" alt=\"Open In Colab\"/></a>"
      ]
    },
    {
      "cell_type": "code",
      "execution_count": 1,
      "metadata": {
        "id": "xwWT-KbB8HEt"
      },
      "outputs": [],
      "source": [
        "import tensorflow as tf"
      ]
    },
    {
      "cell_type": "code",
      "source": [
        "tensor_zero_d = tf.constant(4)\n",
        "print(tensor_zero_d)"
      ],
      "metadata": {
        "colab": {
          "base_uri": "https://localhost:8080/"
        },
        "id": "FVW8a1XrBpvi",
        "outputId": "e017325f-0c9d-4932-93ab-8e1699a21a9a"
      },
      "execution_count": 2,
      "outputs": [
        {
          "output_type": "stream",
          "name": "stdout",
          "text": [
            "tf.Tensor(4, shape=(), dtype=int32)\n"
          ]
        }
      ]
    },
    {
      "cell_type": "code",
      "source": [
        "import tensorflow as tf"
      ],
      "metadata": {
        "id": "F69XYgxdB0EQ"
      },
      "execution_count": 3,
      "outputs": []
    },
    {
      "cell_type": "code",
      "source": [
        "tensor_zero_d = tf.constant(4)\n",
        "print(tensor_zero_d)"
      ],
      "metadata": {
        "colab": {
          "base_uri": "https://localhost:8080/"
        },
        "id": "B2WLZryUc9-w",
        "outputId": "ea204d85-5f51-4d82-ae97-d4ec25225894"
      },
      "execution_count": 4,
      "outputs": [
        {
          "output_type": "stream",
          "name": "stdout",
          "text": [
            "tf.Tensor(4, shape=(), dtype=int32)\n"
          ]
        }
      ]
    },
    {
      "cell_type": "code",
      "source": [
        "tensor_one_d = tf.constant([2, 0.0, -3], dtype=tf.float32)\n",
        "\n",
        "casted_tensor_onde_d = tf.cast(tensor_one_d, dtype=tf.int32)\n",
        "print(tensor_one_d)\n",
        "print(casted_tensor_onde_d)"
      ],
      "metadata": {
        "colab": {
          "base_uri": "https://localhost:8080/"
        },
        "id": "G0zleIsOc_4z",
        "outputId": "a9cc8e42-9916-4229-a960-94af60456d42"
      },
      "execution_count": 5,
      "outputs": [
        {
          "output_type": "stream",
          "name": "stdout",
          "text": [
            "tf.Tensor([ 2.  0. -3.], shape=(3,), dtype=float32)\n",
            "tf.Tensor([ 2  0 -3], shape=(3,), dtype=int32)\n"
          ]
        }
      ]
    },
    {
      "cell_type": "code",
      "source": [
        "tensor_one_d = tf.constant([2, 0.0, -3], dtype=tf.float32)\n",
        "\n",
        "casted_tensor_onde_d = tf.cast(tensor_one_d, dtype=tf.bool)\n",
        "print(tensor_one_d)\n",
        "print(casted_tensor_onde_d)"
      ],
      "metadata": {
        "colab": {
          "base_uri": "https://localhost:8080/"
        },
        "id": "3QUBtVpmrrEM",
        "outputId": "85978fff-8339-43bf-e0f6-f662e3a82374"
      },
      "execution_count": 6,
      "outputs": [
        {
          "output_type": "stream",
          "name": "stdout",
          "text": [
            "tf.Tensor([ 2.  0. -3.], shape=(3,), dtype=float32)\n",
            "tf.Tensor([ True False  True], shape=(3,), dtype=bool)\n"
          ]
        }
      ]
    },
    {
      "cell_type": "code",
      "source": [
        "tensor_bool = tf.constant([True, False, False], dtype=tf.bool)\n",
        "print(tensor_bool)\n",
        "casted_tensor_tensor_bool = tf.cast(tensor_bool, dtype=tf.int32)\n",
        "print(casted_tensor_tensor_bool)"
      ],
      "metadata": {
        "colab": {
          "base_uri": "https://localhost:8080/"
        },
        "id": "DNQib1fJruFz",
        "outputId": "a36f294a-e8bc-4c76-ae10-5780da5401bc"
      },
      "execution_count": 7,
      "outputs": [
        {
          "output_type": "stream",
          "name": "stdout",
          "text": [
            "tf.Tensor([ True False False], shape=(3,), dtype=bool)\n",
            "tf.Tensor([1 0 0], shape=(3,), dtype=int32)\n"
          ]
        }
      ]
    },
    {
      "cell_type": "code",
      "source": [
        "tensor_string = tf.constant([\"Hello World\", \"hi\"])\n",
        "print(tensor_string)"
      ],
      "metadata": {
        "colab": {
          "base_uri": "https://localhost:8080/"
        },
        "id": "kZrCAxDmr-Jn",
        "outputId": "5af0cc9d-cfc8-4a42-f3db-db5238b04c42"
      },
      "execution_count": 8,
      "outputs": [
        {
          "output_type": "stream",
          "name": "stdout",
          "text": [
            "tf.Tensor([b'Hello World' b'hi'], shape=(2,), dtype=string)\n"
          ]
        }
      ]
    },
    {
      "cell_type": "code",
      "source": [
        "tensor_one_d = tf.constant([2, 0, -3,8,90], dtype=tf.float64)\n",
        "print(tensor_one_d)"
      ],
      "metadata": {
        "colab": {
          "base_uri": "https://localhost:8080/"
        },
        "id": "MmzGI-9odNtD",
        "outputId": "d03a5486-e6d3-4cd3-812c-5a7bbaf93d9f"
      },
      "execution_count": 9,
      "outputs": [
        {
          "output_type": "stream",
          "name": "stdout",
          "text": [
            "tf.Tensor([ 2.  0. -3.  8. 90.], shape=(5,), dtype=float64)\n"
          ]
        }
      ]
    },
    {
      "cell_type": "code",
      "source": [
        "tensor_two_d = tf.constant([\n",
        "    [1, 2, 0],\n",
        "    [3, 5, -1],\n",
        "    [1, 5, 6],\n",
        "    [2, 3, 8]\n",
        "])\n",
        "print(tensor_two_d)"
      ],
      "metadata": {
        "colab": {
          "base_uri": "https://localhost:8080/"
        },
        "id": "AJggpFWQdqrz",
        "outputId": "233c0a9d-4daa-4471-db67-bc9d732806ce"
      },
      "execution_count": 10,
      "outputs": [
        {
          "output_type": "stream",
          "name": "stdout",
          "text": [
            "tf.Tensor(\n",
            "[[ 1  2  0]\n",
            " [ 3  5 -1]\n",
            " [ 1  5  6]\n",
            " [ 2  3  8]], shape=(4, 3), dtype=int32)\n"
          ]
        }
      ]
    },
    {
      "cell_type": "code",
      "source": [
        "tensor_three_d = tf.constant([\n",
        "\n",
        "[[1,2,0],\n",
        "[3,5,-1]],\n",
        "\n",
        "[[10,2,0],\n",
        " [1,0,2]],\n",
        "\n",
        "[[5,8,0],\n",
        " [2,7,0]],\n",
        "\n",
        "[[2,1,9],\n",
        "[4,-3,32]]\n",
        "\n",
        "])\n",
        "print(tensor_three_d)"
      ],
      "metadata": {
        "colab": {
          "base_uri": "https://localhost:8080/"
        },
        "id": "t7FqSWGNgDLS",
        "outputId": "b8a7e66b-1353-4d52-ad28-2c4e90a557ef"
      },
      "execution_count": 11,
      "outputs": [
        {
          "output_type": "stream",
          "name": "stdout",
          "text": [
            "tf.Tensor(\n",
            "[[[ 1  2  0]\n",
            "  [ 3  5 -1]]\n",
            "\n",
            " [[10  2  0]\n",
            "  [ 1  0  2]]\n",
            "\n",
            " [[ 5  8  0]\n",
            "  [ 2  7  0]]\n",
            "\n",
            " [[ 2  1  9]\n",
            "  [ 4 -3 32]]], shape=(4, 2, 3), dtype=int32)\n"
          ]
        }
      ]
    },
    {
      "cell_type": "code",
      "source": [
        "print(tensor_zero_d.shape)\n",
        "print(tensor_one_d.shape)\n",
        "print(tensor_two_d.shape)\n",
        "print(tensor_three_d.shape)"
      ],
      "metadata": {
        "colab": {
          "base_uri": "https://localhost:8080/"
        },
        "id": "9bXTRJVYikpW",
        "outputId": "7c430d5c-b13f-4385-dd3c-14b7ec9a6250"
      },
      "execution_count": 12,
      "outputs": [
        {
          "output_type": "stream",
          "name": "stdout",
          "text": [
            "()\n",
            "(5,)\n",
            "(4, 3)\n",
            "(4, 2, 3)\n"
          ]
        }
      ]
    },
    {
      "cell_type": "code",
      "source": [
        "print(tensor_zero_d.ndim)\n",
        "print(tensor_one_d.ndim)\n",
        "print(tensor_two_d.ndim)\n",
        "print(tensor_three_d.ndim)"
      ],
      "metadata": {
        "colab": {
          "base_uri": "https://localhost:8080/"
        },
        "id": "3noPbxLvi_qc",
        "outputId": "fb4b0a17-98dd-4726-d700-f09663c1e4cf"
      },
      "execution_count": 13,
      "outputs": [
        {
          "output_type": "stream",
          "name": "stdout",
          "text": [
            "0\n",
            "1\n",
            "2\n",
            "3\n"
          ]
        }
      ]
    },
    {
      "cell_type": "code",
      "source": [
        "tensor_four_d = tf.constant(\n",
        "[\n",
        "[[[1,2,0],\n",
        "[3,5,-1]],\n",
        "\n",
        "[[10,2,0],\n",
        " [1,0,2]],\n",
        "\n",
        "[[5,8,0],\n",
        " [2,7,0]],\n",
        "\n",
        "[[2,1,9],\n",
        "[4,-3,32]]],\n",
        "\n",
        "[[[1,2,0],\n",
        "[3,5,-1]],\n",
        "\n",
        "[[10,2,0],\n",
        " [1,0,2]],\n",
        "\n",
        "[[5,8,0],\n",
        " [2,7,0]],\n",
        "\n",
        "[[2,1,9],\n",
        "[4,-3,32]]],\n",
        "\n",
        "\n",
        "[[[1,2,0],\n",
        "[3,5,-1]],\n",
        "\n",
        "[[39,21,73],\n",
        " [49,15,2]],\n",
        "\n",
        "[[2,9,1],\n",
        " [0,1,3]],\n",
        "\n",
        "[[2,1,4],\n",
        "[3,-1,36]]]\n",
        "\n",
        "]\n",
        ")\n",
        "\n",
        "print(tensor_four_d.ndim)\n",
        "print(tensor_four_d.shape)"
      ],
      "metadata": {
        "colab": {
          "base_uri": "https://localhost:8080/"
        },
        "id": "FymlFRBEmcH6",
        "outputId": "a082f7f7-641d-4dc8-b52c-b0286ddf2753"
      },
      "execution_count": 14,
      "outputs": [
        {
          "output_type": "stream",
          "name": "stdout",
          "text": [
            "4\n",
            "(3, 4, 2, 3)\n"
          ]
        }
      ]
    },
    {
      "cell_type": "code",
      "source": [
        "import numpy as np"
      ],
      "metadata": {
        "id": "i8tQWTrRsPtD"
      },
      "execution_count": 15,
      "outputs": []
    },
    {
      "cell_type": "code",
      "source": [
        "np_array = np.array([1,2,4])\n",
        "print(np_array)"
      ],
      "metadata": {
        "colab": {
          "base_uri": "https://localhost:8080/"
        },
        "id": "NU8m_o2AsPqk",
        "outputId": "63fb9f97-2601-4620-ba3a-c36fe86efe29"
      },
      "execution_count": 16,
      "outputs": [
        {
          "output_type": "stream",
          "name": "stdout",
          "text": [
            "[1 2 4]\n"
          ]
        }
      ]
    },
    {
      "cell_type": "code",
      "source": [
        "converted_tensor = tf.convert_to_tensor(np_array)\n",
        "print(converted_tensor)"
      ],
      "metadata": {
        "colab": {
          "base_uri": "https://localhost:8080/"
        },
        "id": "D3axg51isPoI",
        "outputId": "94804ece-cb1f-4e6e-a5e5-3a4ec037c437"
      },
      "execution_count": 17,
      "outputs": [
        {
          "output_type": "stream",
          "name": "stdout",
          "text": [
            "tf.Tensor([1 2 4], shape=(3,), dtype=int64)\n"
          ]
        }
      ]
    },
    {
      "cell_type": "code",
      "source": [
        "eye_tensor = tf.eye(\n",
        "    num_rows=3,\n",
        "    num_columns=None,\n",
        "    batch_shape=None,\n",
        "    dtype=tf.dtypes.float32,\n",
        "    name=None\n",
        ")\n",
        "print(eye_tensor)\n",
        "print(3*eye_tensor)"
      ],
      "metadata": {
        "colab": {
          "base_uri": "https://localhost:8080/"
        },
        "id": "LcXM_1qCsPdD",
        "outputId": "77ef097d-a0d3-41a6-be8a-21ec9b98f69f"
      },
      "execution_count": 18,
      "outputs": [
        {
          "output_type": "stream",
          "name": "stdout",
          "text": [
            "tf.Tensor(\n",
            "[[1. 0. 0.]\n",
            " [0. 1. 0.]\n",
            " [0. 0. 1.]], shape=(3, 3), dtype=float32)\n",
            "tf.Tensor(\n",
            "[[3. 0. 0.]\n",
            " [0. 3. 0.]\n",
            " [0. 0. 3.]], shape=(3, 3), dtype=float32)\n"
          ]
        }
      ]
    },
    {
      "cell_type": "code",
      "source": [
        "eye_tensor = tf.eye(\n",
        "    num_rows=3,\n",
        "    num_columns=None,\n",
        "    batch_shape=None,\n",
        "    dtype=tf.dtypes.bool,\n",
        "    name=None\n",
        ")\n",
        "print(eye_tensor)"
      ],
      "metadata": {
        "colab": {
          "base_uri": "https://localhost:8080/"
        },
        "id": "KEGi4m8otxL0",
        "outputId": "5f16f62e-c8d9-4a27-d3aa-6219e71013eb"
      },
      "execution_count": 19,
      "outputs": [
        {
          "output_type": "stream",
          "name": "stdout",
          "text": [
            "tf.Tensor(\n",
            "[[ True False False]\n",
            " [False  True False]\n",
            " [False False  True]], shape=(3, 3), dtype=bool)\n"
          ]
        }
      ]
    },
    {
      "cell_type": "code",
      "source": [
        "eye_tensor = tf.eye(\n",
        "    num_rows=5,\n",
        "    num_columns=3,\n",
        "    batch_shape=None,\n",
        "    dtype=tf.dtypes.float32,\n",
        "    name=None\n",
        ")\n",
        "print(eye_tensor)"
      ],
      "metadata": {
        "colab": {
          "base_uri": "https://localhost:8080/"
        },
        "id": "aWhLuvfKuAZ5",
        "outputId": "e7115fb3-ed41-46de-ee6b-589382dc4eab"
      },
      "execution_count": 20,
      "outputs": [
        {
          "output_type": "stream",
          "name": "stdout",
          "text": [
            "tf.Tensor(\n",
            "[[1. 0. 0.]\n",
            " [0. 1. 0.]\n",
            " [0. 0. 1.]\n",
            " [0. 0. 0.]\n",
            " [0. 0. 0.]], shape=(5, 3), dtype=float32)\n"
          ]
        }
      ]
    },
    {
      "cell_type": "code",
      "source": [
        "eye_tensor = tf.eye(\n",
        "    num_rows=5,\n",
        "    num_columns=None,\n",
        "    batch_shape=[2,4],\n",
        "    dtype=tf.dtypes.float32,\n",
        "    name=None\n",
        ")\n",
        "print(eye_tensor)"
      ],
      "metadata": {
        "colab": {
          "base_uri": "https://localhost:8080/"
        },
        "id": "Eu4GAgHcuO5p",
        "outputId": "c442e0ee-cd09-407e-b582-348b5bc8545f"
      },
      "execution_count": 21,
      "outputs": [
        {
          "output_type": "stream",
          "name": "stdout",
          "text": [
            "tf.Tensor(\n",
            "[[[[1. 0. 0. 0. 0.]\n",
            "   [0. 1. 0. 0. 0.]\n",
            "   [0. 0. 1. 0. 0.]\n",
            "   [0. 0. 0. 1. 0.]\n",
            "   [0. 0. 0. 0. 1.]]\n",
            "\n",
            "  [[1. 0. 0. 0. 0.]\n",
            "   [0. 1. 0. 0. 0.]\n",
            "   [0. 0. 1. 0. 0.]\n",
            "   [0. 0. 0. 1. 0.]\n",
            "   [0. 0. 0. 0. 1.]]\n",
            "\n",
            "  [[1. 0. 0. 0. 0.]\n",
            "   [0. 1. 0. 0. 0.]\n",
            "   [0. 0. 1. 0. 0.]\n",
            "   [0. 0. 0. 1. 0.]\n",
            "   [0. 0. 0. 0. 1.]]\n",
            "\n",
            "  [[1. 0. 0. 0. 0.]\n",
            "   [0. 1. 0. 0. 0.]\n",
            "   [0. 0. 1. 0. 0.]\n",
            "   [0. 0. 0. 1. 0.]\n",
            "   [0. 0. 0. 0. 1.]]]\n",
            "\n",
            "\n",
            " [[[1. 0. 0. 0. 0.]\n",
            "   [0. 1. 0. 0. 0.]\n",
            "   [0. 0. 1. 0. 0.]\n",
            "   [0. 0. 0. 1. 0.]\n",
            "   [0. 0. 0. 0. 1.]]\n",
            "\n",
            "  [[1. 0. 0. 0. 0.]\n",
            "   [0. 1. 0. 0. 0.]\n",
            "   [0. 0. 1. 0. 0.]\n",
            "   [0. 0. 0. 1. 0.]\n",
            "   [0. 0. 0. 0. 1.]]\n",
            "\n",
            "  [[1. 0. 0. 0. 0.]\n",
            "   [0. 1. 0. 0. 0.]\n",
            "   [0. 0. 1. 0. 0.]\n",
            "   [0. 0. 0. 1. 0.]\n",
            "   [0. 0. 0. 0. 1.]]\n",
            "\n",
            "  [[1. 0. 0. 0. 0.]\n",
            "   [0. 1. 0. 0. 0.]\n",
            "   [0. 0. 1. 0. 0.]\n",
            "   [0. 0. 0. 1. 0.]\n",
            "   [0. 0. 0. 0. 1.]]]], shape=(2, 4, 5, 5), dtype=float32)\n"
          ]
        }
      ]
    },
    {
      "cell_type": "code",
      "source": [
        "fill_tensor = tf.fill(\n",
        "    [1,3,4], 5, name=None\n",
        ")\n",
        "print(fill_tensor)"
      ],
      "metadata": {
        "colab": {
          "base_uri": "https://localhost:8080/"
        },
        "id": "LfmdpjFIyAIx",
        "outputId": "775e5d9d-3ded-4bae-d74c-acf366125960"
      },
      "execution_count": 22,
      "outputs": [
        {
          "output_type": "stream",
          "name": "stdout",
          "text": [
            "tf.Tensor(\n",
            "[[[5 5 5 5]\n",
            "  [5 5 5 5]\n",
            "  [5 5 5 5]]], shape=(1, 3, 4), dtype=int32)\n"
          ]
        }
      ]
    },
    {
      "cell_type": "code",
      "source": [
        "ones_tensor = tf.ones(\n",
        "    [5,3,2],\n",
        "    dtype=tf.dtypes.float32,\n",
        "    name=None\n",
        ")\n",
        "print(ones_tensor)"
      ],
      "metadata": {
        "colab": {
          "base_uri": "https://localhost:8080/"
        },
        "id": "Kox1nhmM0UJZ",
        "outputId": "7b9726b7-68e1-4486-ded7-e045e5b81541"
      },
      "execution_count": 23,
      "outputs": [
        {
          "output_type": "stream",
          "name": "stdout",
          "text": [
            "tf.Tensor(\n",
            "[[[1. 1.]\n",
            "  [1. 1.]\n",
            "  [1. 1.]]\n",
            "\n",
            " [[1. 1.]\n",
            "  [1. 1.]\n",
            "  [1. 1.]]\n",
            "\n",
            " [[1. 1.]\n",
            "  [1. 1.]\n",
            "  [1. 1.]]\n",
            "\n",
            " [[1. 1.]\n",
            "  [1. 1.]\n",
            "  [1. 1.]]\n",
            "\n",
            " [[1. 1.]\n",
            "  [1. 1.]\n",
            "  [1. 1.]]], shape=(5, 3, 2), dtype=float32)\n"
          ]
        }
      ]
    },
    {
      "cell_type": "code",
      "source": [
        "zeros_tensor = tf.zeros(\n",
        "    [3,2],\n",
        "    dtype=tf.dtypes.float32,\n",
        "    name=None\n",
        ")\n",
        "print(zeros_tensor)"
      ],
      "metadata": {
        "colab": {
          "base_uri": "https://localhost:8080/"
        },
        "id": "ST-WuaRA3M73",
        "outputId": "02ff2472-5634-48b0-dd54-bf8411eeb7af"
      },
      "execution_count": 24,
      "outputs": [
        {
          "output_type": "stream",
          "name": "stdout",
          "text": [
            "tf.Tensor(\n",
            "[[0. 0.]\n",
            " [0. 0.]\n",
            " [0. 0.]], shape=(3, 2), dtype=float32)\n"
          ]
        }
      ]
    },
    {
      "cell_type": "code",
      "source": [
        "ones_like_tensor = tf.ones_like(fill_tensor)\n",
        "print(ones_like_tensor)"
      ],
      "metadata": {
        "colab": {
          "base_uri": "https://localhost:8080/"
        },
        "id": "tvHV4Fwc0dbr",
        "outputId": "a99f7815-9aa7-42f4-d6f9-5dab8f2276db"
      },
      "execution_count": 25,
      "outputs": [
        {
          "output_type": "stream",
          "name": "stdout",
          "text": [
            "tf.Tensor(\n",
            "[[[1 1 1 1]\n",
            "  [1 1 1 1]\n",
            "  [1 1 1 1]]], shape=(1, 3, 4), dtype=int32)\n"
          ]
        }
      ]
    },
    {
      "cell_type": "code",
      "source": [
        "zeros_like_tensor = tf.zeros_like(fill_tensor)\n",
        "print(zeros_like_tensor)"
      ],
      "metadata": {
        "colab": {
          "base_uri": "https://localhost:8080/"
        },
        "id": "uCteaRMV6ZIe",
        "outputId": "558174c5-e674-49f7-dcb1-4480bafd1258"
      },
      "execution_count": 26,
      "outputs": [
        {
          "output_type": "stream",
          "name": "stdout",
          "text": [
            "tf.Tensor(\n",
            "[[[0 0 0 0]\n",
            "  [0 0 0 0]\n",
            "  [0 0 0 0]]], shape=(1, 3, 4), dtype=int32)\n"
          ]
        }
      ]
    },
    {
      "cell_type": "code",
      "source": [
        "t = tf.constant([\n",
        "    [[1,1,1],\n",
        "     [2,2,2]],\n",
        "\n",
        "     [[3,3,3],\n",
        "      [4,4,4]]\n",
        "    ])\n",
        "tf.rank(t)"
      ],
      "metadata": {
        "colab": {
          "base_uri": "https://localhost:8080/"
        },
        "id": "1LpjUq1u6Y92",
        "outputId": "cb12338a-1c5e-43d1-d174-3c2ccb1099ee"
      },
      "execution_count": 27,
      "outputs": [
        {
          "output_type": "execute_result",
          "data": {
            "text/plain": [
              "<tf.Tensor: shape=(), dtype=int32, numpy=3>"
            ]
          },
          "metadata": {},
          "execution_count": 27
        }
      ]
    },
    {
      "cell_type": "code",
      "source": [
        "t = tf.constant(\n",
        "    [[1,1,1],\n",
        "     [2,2,2]]\n",
        ")\n",
        "tf.rank(t)"
      ],
      "metadata": {
        "colab": {
          "base_uri": "https://localhost:8080/"
        },
        "id": "33tjVbc_8TWN",
        "outputId": "030cbcee-e80f-4273-9dbd-7c9c4b1784b6"
      },
      "execution_count": 28,
      "outputs": [
        {
          "output_type": "execute_result",
          "data": {
            "text/plain": [
              "<tf.Tensor: shape=(), dtype=int32, numpy=2>"
            ]
          },
          "metadata": {},
          "execution_count": 28
        }
      ]
    },
    {
      "cell_type": "code",
      "source": [
        "t = tf.constant([\n",
        "    [[1,1,1],\n",
        "     [2,2,2]],\n",
        "\n",
        "     [[3,3,3],\n",
        "      [4,4,4]]\n",
        "    ])\n",
        "tf.size(t)"
      ],
      "metadata": {
        "colab": {
          "base_uri": "https://localhost:8080/"
        },
        "id": "_V1LtiDi8zCC",
        "outputId": "3e47be22-58d6-4db8-a119-ef7b598d644e"
      },
      "execution_count": 29,
      "outputs": [
        {
          "output_type": "execute_result",
          "data": {
            "text/plain": [
              "<tf.Tensor: shape=(), dtype=int32, numpy=12>"
            ]
          },
          "metadata": {},
          "execution_count": 29
        }
      ]
    },
    {
      "cell_type": "code",
      "source": [
        "t = tf.constant(\n",
        "    [[1,1,1],\n",
        "     [2,2,2]]\n",
        "    )\n",
        "tf.size(t)"
      ],
      "metadata": {
        "colab": {
          "base_uri": "https://localhost:8080/"
        },
        "id": "9OAbfYBB9Y-Y",
        "outputId": "4a80a3b7-f834-4717-d840-b263fa5fcaf2"
      },
      "execution_count": 30,
      "outputs": [
        {
          "output_type": "execute_result",
          "data": {
            "text/plain": [
              "<tf.Tensor: shape=(), dtype=int32, numpy=6>"
            ]
          },
          "metadata": {},
          "execution_count": 30
        }
      ]
    },
    {
      "cell_type": "code",
      "source": [
        "t = tf.constant(\n",
        "    [[1,1,1],\n",
        "     [2,2,2]]\n",
        "    )\n",
        "tf.size(t, out_type=tf.float32)"
      ],
      "metadata": {
        "colab": {
          "base_uri": "https://localhost:8080/"
        },
        "id": "laZ_cX5l-Xba",
        "outputId": "ce0a3a75-8d59-406f-b3aa-496a99718657"
      },
      "execution_count": 31,
      "outputs": [
        {
          "output_type": "execute_result",
          "data": {
            "text/plain": [
              "<tf.Tensor: shape=(), dtype=float32, numpy=6.0>"
            ]
          },
          "metadata": {},
          "execution_count": 31
        }
      ]
    },
    {
      "cell_type": "code",
      "source": [
        "random_tensor = tf.random.normal(\n",
        "    [3,2],\n",
        "    mean=100.0,\n",
        "    stddev=1.0,\n",
        "    dtype=tf.dtypes.float32,\n",
        "    seed=None,\n",
        "    name=None\n",
        ")\n",
        "\n",
        "print(random_tensor)"
      ],
      "metadata": {
        "colab": {
          "base_uri": "https://localhost:8080/"
        },
        "id": "cAcuu1Be-wNh",
        "outputId": "77e7c27c-2468-4b64-eebc-fc3f7aa2c230"
      },
      "execution_count": 32,
      "outputs": [
        {
          "output_type": "stream",
          "name": "stdout",
          "text": [
            "tf.Tensor(\n",
            "[[ 99.82455   98.931946]\n",
            " [ 99.70729  100.55144 ]\n",
            " [ 99.720276  99.65202 ]], shape=(3, 2), dtype=float32)\n"
          ]
        }
      ]
    },
    {
      "cell_type": "code",
      "source": [
        "random_tensor = tf.random.uniform(\n",
        "    [5,5],\n",
        "    minval=0,\n",
        "    maxval=1000,\n",
        "    dtype=tf.dtypes.int32,\n",
        "    seed=None,\n",
        "    name=None\n",
        ")\n",
        "print(random_tensor)"
      ],
      "metadata": {
        "colab": {
          "base_uri": "https://localhost:8080/"
        },
        "id": "XTQsDn73_Hnu",
        "outputId": "0a6022d1-8e1e-409a-8e1e-737e2dd130cd"
      },
      "execution_count": 33,
      "outputs": [
        {
          "output_type": "stream",
          "name": "stdout",
          "text": [
            "tf.Tensor(\n",
            "[[372 447 528 886 776]\n",
            " [  2 803 162 778 713]\n",
            " [ 27 958 291 662 172]\n",
            " [145 483 588 467 847]\n",
            " [ 36 786 260 511 259]], shape=(5, 5), dtype=int32)\n"
          ]
        }
      ]
    },
    {
      "cell_type": "code",
      "source": [
        "tf.random.set_seed(5)\n",
        "print(tf.random.uniform(shape=[3,],maxval=5, dtype=tf.int32, seed=10))\n",
        "print(tf.random.uniform(shape=[3,],maxval=5, dtype=tf.int32, seed=10))\n",
        "print(tf.random.uniform(shape=[3,],maxval=5, dtype=tf.int32, seed=10))\n",
        "print(tf.random.uniform(shape=[3,],maxval=5, dtype=tf.int32, seed=10))\n",
        "print(tf.random.uniform(shape=[3,],maxval=5, dtype=tf.int32, seed=10))\n"
      ],
      "metadata": {
        "colab": {
          "base_uri": "https://localhost:8080/"
        },
        "id": "os5bHwfJF47S",
        "outputId": "ab777849-62f9-401e-91ae-e272083c47c4"
      },
      "execution_count": 34,
      "outputs": [
        {
          "output_type": "stream",
          "name": "stdout",
          "text": [
            "tf.Tensor([4 3 1], shape=(3,), dtype=int32)\n",
            "tf.Tensor([4 3 2], shape=(3,), dtype=int32)\n",
            "tf.Tensor([1 1 1], shape=(3,), dtype=int32)\n",
            "tf.Tensor([1 3 3], shape=(3,), dtype=int32)\n",
            "tf.Tensor([4 2 2], shape=(3,), dtype=int32)\n"
          ]
        }
      ]
    },
    {
      "cell_type": "code",
      "source": [
        "tf.random.set_seed(5)\n",
        "print(tf.random.uniform(shape=[3,],maxval=5, dtype=tf.int32, seed=10))\n",
        "print(tf.random.uniform(shape=[3,],maxval=5, dtype=tf.int32, seed=10))\n",
        "print(tf.random.uniform(shape=[3,],maxval=5, dtype=tf.int32, seed=10))\n",
        "print(tf.random.uniform(shape=[3,],maxval=5, dtype=tf.int32, seed=10))\n",
        "print(tf.random.uniform(shape=[3,],maxval=5, dtype=tf.int32, seed=10))\n"
      ],
      "metadata": {
        "colab": {
          "base_uri": "https://localhost:8080/"
        },
        "id": "gDHRJG-YGZMb",
        "outputId": "aae4a2e7-d166-43bd-a76b-13bd59458677"
      },
      "execution_count": 35,
      "outputs": [
        {
          "output_type": "stream",
          "name": "stdout",
          "text": [
            "tf.Tensor([4 3 1], shape=(3,), dtype=int32)\n",
            "tf.Tensor([4 3 2], shape=(3,), dtype=int32)\n",
            "tf.Tensor([1 1 1], shape=(3,), dtype=int32)\n",
            "tf.Tensor([1 3 3], shape=(3,), dtype=int32)\n",
            "tf.Tensor([4 2 2], shape=(3,), dtype=int32)\n"
          ]
        }
      ]
    },
    {
      "cell_type": "code",
      "source": [
        "tf.random.set_seed(5)\n",
        "print(tf.random.uniform(shape=[3,],maxval=5, dtype=tf.int32, seed=1))\n",
        "print(tf.random.uniform(shape=[3,],maxval=5, dtype=tf.int32, seed=1))\n",
        "print(tf.random.uniform(shape=[3,],maxval=5, dtype=tf.int32, seed=1))\n",
        "print(tf.random.uniform(shape=[3,],maxval=5, dtype=tf.int32, seed=1))\n",
        "print(tf.random.uniform(shape=[3,],maxval=5, dtype=tf.int32, seed=1))\n"
      ],
      "metadata": {
        "colab": {
          "base_uri": "https://localhost:8080/"
        },
        "id": "LvlazG-mGfp9",
        "outputId": "4bd6a891-13cb-4893-e5e2-287a76faeded"
      },
      "execution_count": 36,
      "outputs": [
        {
          "output_type": "stream",
          "name": "stdout",
          "text": [
            "tf.Tensor([4 1 3], shape=(3,), dtype=int32)\n",
            "tf.Tensor([4 3 3], shape=(3,), dtype=int32)\n",
            "tf.Tensor([4 1 3], shape=(3,), dtype=int32)\n",
            "tf.Tensor([0 4 1], shape=(3,), dtype=int32)\n",
            "tf.Tensor([0 1 4], shape=(3,), dtype=int32)\n"
          ]
        }
      ]
    },
    {
      "cell_type": "code",
      "source": [
        "tesnor_indexed = tf.constant([3,6,2,4,6,66,7])\n",
        "print(tesnor_indexed)"
      ],
      "metadata": {
        "colab": {
          "base_uri": "https://localhost:8080/"
        },
        "id": "t7Q8IYoIGsLK",
        "outputId": "abbddd01-ff70-4b2c-9a8b-daffbaf97fbc"
      },
      "execution_count": 37,
      "outputs": [
        {
          "output_type": "stream",
          "name": "stdout",
          "text": [
            "tf.Tensor([ 3  6  2  4  6 66  7], shape=(7,), dtype=int32)\n"
          ]
        }
      ]
    },
    {
      "cell_type": "code",
      "source": [
        "tesnor_indexed = tf.constant([3,6,2,4,6,66,7])\n",
        "print(tesnor_indexed[0:4])\n",
        "print(tesnor_indexed[0:6])\n",
        "print(tesnor_indexed[1:6])\n",
        "print(tesnor_indexed[1:6:2])\n",
        "print(tesnor_indexed[:6])\n",
        "print(tesnor_indexed[:])\n",
        "print(tesnor_indexed[3:])\n",
        "print(tesnor_indexed[1:])\n",
        "print(tesnor_indexed[1:-2])"
      ],
      "metadata": {
        "colab": {
          "base_uri": "https://localhost:8080/"
        },
        "id": "XTH05mDIG_Y-",
        "outputId": "39dbcd0a-7b98-40e7-ba76-e2e3c4a3f307"
      },
      "execution_count": 38,
      "outputs": [
        {
          "output_type": "stream",
          "name": "stdout",
          "text": [
            "tf.Tensor([3 6 2 4], shape=(4,), dtype=int32)\n",
            "tf.Tensor([ 3  6  2  4  6 66], shape=(6,), dtype=int32)\n",
            "tf.Tensor([ 6  2  4  6 66], shape=(5,), dtype=int32)\n",
            "tf.Tensor([ 6  4 66], shape=(3,), dtype=int32)\n",
            "tf.Tensor([ 3  6  2  4  6 66], shape=(6,), dtype=int32)\n",
            "tf.Tensor([ 3  6  2  4  6 66  7], shape=(7,), dtype=int32)\n",
            "tf.Tensor([ 4  6 66  7], shape=(4,), dtype=int32)\n",
            "tf.Tensor([ 6  2  4  6 66  7], shape=(6,), dtype=int32)\n",
            "tf.Tensor([6 2 4 6], shape=(4,), dtype=int32)\n"
          ]
        }
      ]
    },
    {
      "cell_type": "code",
      "source": [
        "tf.range(2,6)"
      ],
      "metadata": {
        "colab": {
          "base_uri": "https://localhost:8080/"
        },
        "id": "B8Kdga6QIc0i",
        "outputId": "be73c362-c053-48b4-8734-5b9c3fa706a4"
      },
      "execution_count": 39,
      "outputs": [
        {
          "output_type": "execute_result",
          "data": {
            "text/plain": [
              "<tf.Tensor: shape=(4,), dtype=int32, numpy=array([2, 3, 4, 5], dtype=int32)>"
            ]
          },
          "metadata": {},
          "execution_count": 39
        }
      ]
    },
    {
      "cell_type": "code",
      "source": [
        "tensor_two_d = tf.constant([\n",
        "    [1, 2, 0],\n",
        "    [3, 5, -1],\n",
        "    [1, 5, 6],\n",
        "    [2, 3, 8]\n",
        "])\n",
        "print(tensor_two_d[ :3, :2])\n",
        "print()\n",
        "print(tensor_two_d[ :3, :])\n",
        "print()\n",
        "print(tensor_two_d[ 2, :])\n",
        "print()\n",
        "print(tensor_two_d[ 2, :1])\n",
        "print()\n",
        "print(tensor_two_d[ 2, 0])\n",
        "print()\n",
        "print(tensor_two_d[ 2, 1:])\n",
        "print()\n",
        "print(tensor_two_d[ :, :1])\n",
        "print()\n",
        "print(tensor_two_d[ :, 0])\n",
        "print()\n",
        "print(tensor_two_d[..., 0])"
      ],
      "metadata": {
        "colab": {
          "base_uri": "https://localhost:8080/"
        },
        "id": "HaQOXoC6J8eT",
        "outputId": "a1e927e8-fb10-4cbb-be4f-72cad2aaa8f5"
      },
      "execution_count": 40,
      "outputs": [
        {
          "output_type": "stream",
          "name": "stdout",
          "text": [
            "tf.Tensor(\n",
            "[[1 2]\n",
            " [3 5]\n",
            " [1 5]], shape=(3, 2), dtype=int32)\n",
            "\n",
            "tf.Tensor(\n",
            "[[ 1  2  0]\n",
            " [ 3  5 -1]\n",
            " [ 1  5  6]], shape=(3, 3), dtype=int32)\n",
            "\n",
            "tf.Tensor([1 5 6], shape=(3,), dtype=int32)\n",
            "\n",
            "tf.Tensor([1], shape=(1,), dtype=int32)\n",
            "\n",
            "tf.Tensor(1, shape=(), dtype=int32)\n",
            "\n",
            "tf.Tensor([5 6], shape=(2,), dtype=int32)\n",
            "\n",
            "tf.Tensor(\n",
            "[[1]\n",
            " [3]\n",
            " [1]\n",
            " [2]], shape=(4, 1), dtype=int32)\n",
            "\n",
            "tf.Tensor([1 3 1 2], shape=(4,), dtype=int32)\n",
            "\n",
            "tf.Tensor([1 3 1 2], shape=(4,), dtype=int32)\n"
          ]
        }
      ]
    },
    {
      "cell_type": "code",
      "source": [
        "tensor_three_d = tf.constant([\n",
        "\n",
        "[[1,2,0],\n",
        "[3,5,-1]],\n",
        "\n",
        "[[10,2,0],\n",
        " [1,0,2]],\n",
        "\n",
        "[[5,8,0],\n",
        " [2,7,0]],\n",
        "\n",
        "[[2,1,9],\n",
        "[4,-3,32]]\n",
        "\n",
        "])\n",
        "print(tensor_three_d[ 1, : , :])\n",
        "print()\n",
        "print(tensor_three_d[ 0, 0 , :])\n",
        "print()\n",
        "print(tensor_three_d[ 0, : , -1])\n",
        "print()\n",
        "print(tensor_three_d[ 0, : , 2])\n",
        "print()\n",
        "print(tensor_three_d[ 0:2, : , 2])\n",
        "print()\n",
        "print(tensor_three_d[ ..., : , 2])\n",
        "print()\n",
        "print(tensor_three_d[ :, ... , 2])"
      ],
      "metadata": {
        "colab": {
          "base_uri": "https://localhost:8080/"
        },
        "id": "tzdc7G0d6UWA",
        "outputId": "82e7dff5-158c-4b91-a50c-a7defde9bd55"
      },
      "execution_count": 41,
      "outputs": [
        {
          "output_type": "stream",
          "name": "stdout",
          "text": [
            "tf.Tensor(\n",
            "[[10  2  0]\n",
            " [ 1  0  2]], shape=(2, 3), dtype=int32)\n",
            "\n",
            "tf.Tensor([1 2 0], shape=(3,), dtype=int32)\n",
            "\n",
            "tf.Tensor([ 0 -1], shape=(2,), dtype=int32)\n",
            "\n",
            "tf.Tensor([ 0 -1], shape=(2,), dtype=int32)\n",
            "\n",
            "tf.Tensor(\n",
            "[[ 0 -1]\n",
            " [ 0  2]], shape=(2, 2), dtype=int32)\n",
            "\n",
            "tf.Tensor(\n",
            "[[ 0 -1]\n",
            " [ 0  2]\n",
            " [ 0  0]\n",
            " [ 9 32]], shape=(4, 2), dtype=int32)\n",
            "\n",
            "tf.Tensor(\n",
            "[[ 0 -1]\n",
            " [ 0  2]\n",
            " [ 0  0]\n",
            " [ 9 32]], shape=(4, 2), dtype=int32)\n"
          ]
        }
      ]
    },
    {
      "cell_type": "code",
      "source": [
        "x_abs = tf.constant([-2.25, 3.25])\n",
        "tf.abs(x_abs)"
      ],
      "metadata": {
        "colab": {
          "base_uri": "https://localhost:8080/"
        },
        "id": "3bX1l3Yb7xFq",
        "outputId": "1d9b2cb2-8294-4d51-d192-3955f5112022"
      },
      "execution_count": 42,
      "outputs": [
        {
          "output_type": "execute_result",
          "data": {
            "text/plain": [
              "<tf.Tensor: shape=(2,), dtype=float32, numpy=array([2.25, 3.25], dtype=float32)>"
            ]
          },
          "metadata": {},
          "execution_count": 42
        }
      ]
    },
    {
      "cell_type": "code",
      "source": [
        "x_abs_complex = tf.constant([-2.25 + 4.75j])\n",
        "tf.abs(x_abs_complex)"
      ],
      "metadata": {
        "colab": {
          "base_uri": "https://localhost:8080/"
        },
        "id": "uV7sgSiL99Uy",
        "outputId": "7f18d53b-c380-4aae-90a4-4178ff152263"
      },
      "execution_count": 43,
      "outputs": [
        {
          "output_type": "execute_result",
          "data": {
            "text/plain": [
              "<tf.Tensor: shape=(1,), dtype=float64, numpy=array([5.25594901])>"
            ]
          },
          "metadata": {},
          "execution_count": 43
        }
      ]
    },
    {
      "cell_type": "code",
      "source": [
        "tf.sqrt((-2.25)**2 + 4.75**2 )"
      ],
      "metadata": {
        "colab": {
          "base_uri": "https://localhost:8080/"
        },
        "id": "3JBAxEjK-P8I",
        "outputId": "2371e019-f2c9-4a8d-c5b1-2ae5bf004e10"
      },
      "execution_count": 44,
      "outputs": [
        {
          "output_type": "execute_result",
          "data": {
            "text/plain": [
              "<tf.Tensor: shape=(), dtype=float32, numpy=5.255949>"
            ]
          },
          "metadata": {},
          "execution_count": 44
        }
      ]
    },
    {
      "cell_type": "code",
      "source": [
        "x_1 = tf.constant([5,3,6,6,4,6], dtype=tf.int32)\n",
        "x_2 = tf.constant([7,6,2,6,7,11], dtype=tf.int32)\n",
        "print(tf.add(x_1,x_2))\n",
        "print(tf.multiply(x_1,x_2))\n",
        "print(tf.subtract(x_1,x_2))\n",
        "print(tf.divide(x_1,x_2))\n",
        "print(tf.math.divide_no_nan(x_1,x_2))"
      ],
      "metadata": {
        "colab": {
          "base_uri": "https://localhost:8080/"
        },
        "id": "GzN1czRm-j8z",
        "outputId": "0ee631ed-904d-47f7-8c7e-e5618033888d"
      },
      "execution_count": 45,
      "outputs": [
        {
          "output_type": "stream",
          "name": "stdout",
          "text": [
            "tf.Tensor([12  9  8 12 11 17], shape=(6,), dtype=int32)\n",
            "tf.Tensor([35 18 12 36 28 66], shape=(6,), dtype=int32)\n",
            "tf.Tensor([-2 -3  4  0 -3 -5], shape=(6,), dtype=int32)\n",
            "tf.Tensor([0.71428571 0.5        3.         1.         0.57142857 0.54545455], shape=(6,), dtype=float64)\n",
            "tf.Tensor([0.71428571 0.5        3.         1.         0.57142857 0.54545455], shape=(6,), dtype=float64)\n"
          ]
        }
      ]
    },
    {
      "cell_type": "code",
      "source": [
        "x_1 = tf.constant([5,3,6,6,4,6], dtype=tf.int32)\n",
        "x_2 = tf.constant([7], dtype=tf.int32) ## [7] = [7,7,7,7,7,7]\n",
        "print(tf.add(x_1,x_2))\n",
        "print(tf.multiply(x_1,x_2))\n",
        "print(tf.subtract(x_1,x_2))\n",
        "print(tf.divide(x_1,x_2))\n",
        "print(tf.math.divide_no_nan(x_1,x_2))"
      ],
      "metadata": {
        "colab": {
          "base_uri": "https://localhost:8080/"
        },
        "id": "oXi8f-17_lEb",
        "outputId": "036fa347-0716-4511-d232-ae719df5c214"
      },
      "execution_count": 46,
      "outputs": [
        {
          "output_type": "stream",
          "name": "stdout",
          "text": [
            "tf.Tensor([12 10 13 13 11 13], shape=(6,), dtype=int32)\n",
            "tf.Tensor([35 21 42 42 28 42], shape=(6,), dtype=int32)\n",
            "tf.Tensor([-2 -4 -1 -1 -3 -1], shape=(6,), dtype=int32)\n",
            "tf.Tensor([0.71428571 0.42857143 0.85714286 0.85714286 0.57142857 0.85714286], shape=(6,), dtype=float64)\n",
            "tf.Tensor([0.71428571 0.42857143 0.85714286 0.85714286 0.57142857 0.85714286], shape=(6,), dtype=float64)\n"
          ]
        }
      ]
    },
    {
      "cell_type": "code",
      "source": [
        "x_1 = tf.constant([[5,3,6,6,4,6], [5,45,65,5,53,4]], dtype=tf.int32)\n",
        "x_2 = tf.constant([7], dtype=tf.int32) ## [7] = [7,7,7,7,7,7]\n",
        "x_2_stretched = tf.constant([7,7,7,7,7,7])\n",
        "print(tf.add(x_1,x_2))\n",
        "print(tf.add(x_1,x_2_stretched))\n",
        "print(tf.multiply(x_1,x_2))\n",
        "print(tf.multiply(x_1,x_2_stretched))\n",
        "print(tf.subtract(x_1,x_2))\n",
        "print(tf.subtract(x_1,x_2_stretched))\n",
        "print(tf.divide(x_1,x_2))\n",
        "print(tf.divide(x_1,x_2_stretched))\n",
        "print(tf.math.divide_no_nan(x_1,x_2))\n",
        "print(tf.math.divide_no_nan(x_1,x_2_stretched))"
      ],
      "metadata": {
        "colab": {
          "base_uri": "https://localhost:8080/"
        },
        "id": "HvG1qkRBAU8y",
        "outputId": "c354ade6-a38d-44e4-9fee-bf5d57bb0885"
      },
      "execution_count": 47,
      "outputs": [
        {
          "output_type": "stream",
          "name": "stdout",
          "text": [
            "tf.Tensor(\n",
            "[[12 10 13 13 11 13]\n",
            " [12 52 72 12 60 11]], shape=(2, 6), dtype=int32)\n",
            "tf.Tensor(\n",
            "[[12 10 13 13 11 13]\n",
            " [12 52 72 12 60 11]], shape=(2, 6), dtype=int32)\n",
            "tf.Tensor(\n",
            "[[ 35  21  42  42  28  42]\n",
            " [ 35 315 455  35 371  28]], shape=(2, 6), dtype=int32)\n",
            "tf.Tensor(\n",
            "[[ 35  21  42  42  28  42]\n",
            " [ 35 315 455  35 371  28]], shape=(2, 6), dtype=int32)\n",
            "tf.Tensor(\n",
            "[[-2 -4 -1 -1 -3 -1]\n",
            " [-2 38 58 -2 46 -3]], shape=(2, 6), dtype=int32)\n",
            "tf.Tensor(\n",
            "[[-2 -4 -1 -1 -3 -1]\n",
            " [-2 38 58 -2 46 -3]], shape=(2, 6), dtype=int32)\n",
            "tf.Tensor(\n",
            "[[0.71428571 0.42857143 0.85714286 0.85714286 0.57142857 0.85714286]\n",
            " [0.71428571 6.42857143 9.28571429 0.71428571 7.57142857 0.57142857]], shape=(2, 6), dtype=float64)\n",
            "tf.Tensor(\n",
            "[[0.71428571 0.42857143 0.85714286 0.85714286 0.57142857 0.85714286]\n",
            " [0.71428571 6.42857143 9.28571429 0.71428571 7.57142857 0.57142857]], shape=(2, 6), dtype=float64)\n",
            "tf.Tensor(\n",
            "[[0.71428571 0.42857143 0.85714286 0.85714286 0.57142857 0.85714286]\n",
            " [0.71428571 6.42857143 9.28571429 0.71428571 7.57142857 0.57142857]], shape=(2, 6), dtype=float64)\n",
            "tf.Tensor(\n",
            "[[0.71428571 0.42857143 0.85714286 0.85714286 0.57142857 0.85714286]\n",
            " [0.71428571 6.42857143 9.28571429 0.71428571 7.57142857 0.57142857]], shape=(2, 6), dtype=float64)\n"
          ]
        }
      ]
    },
    {
      "cell_type": "code",
      "source": [
        "x_1 = tf.constant([[5,3,6,6,4,6]], dtype=tf.int32)\n",
        "x_2 = tf.constant([[7], [5], [3]], dtype=tf.int32)\n",
        "\n",
        "print(x_1.shape)\n",
        "print(x_2.shape)\n",
        "print(tf.math.multiply(x_1, x_2))"
      ],
      "metadata": {
        "colab": {
          "base_uri": "https://localhost:8080/"
        },
        "id": "eDPzpJTnBSgp",
        "outputId": "3cefebcb-f195-47c3-e050-5f4d07d16f1c"
      },
      "execution_count": 48,
      "outputs": [
        {
          "output_type": "stream",
          "name": "stdout",
          "text": [
            "(1, 6)\n",
            "(3, 1)\n",
            "tf.Tensor(\n",
            "[[35 21 42 42 28 42]\n",
            " [25 15 30 30 20 30]\n",
            " [15  9 18 18 12 18]], shape=(3, 6), dtype=int32)\n"
          ]
        }
      ]
    },
    {
      "cell_type": "code",
      "source": [
        "x_argmax = tf.constant([[2,20,30,3,6],\n",
        "                       [3,11,16,1,8],\n",
        "                       [14,45,23,5,27]])\n",
        "\n",
        "print(x_argmax.shape)"
      ],
      "metadata": {
        "colab": {
          "base_uri": "https://localhost:8080/"
        },
        "id": "D2WzU05LMcgR",
        "outputId": "a569481e-68f4-44fe-aec4-7dc60c3311f0"
      },
      "execution_count": 49,
      "outputs": [
        {
          "output_type": "stream",
          "name": "stdout",
          "text": [
            "(3, 5)\n"
          ]
        }
      ]
    },
    {
      "cell_type": "code",
      "source": [
        "x_argmax = tf.constant([2,20,30,3,6])\n",
        "\n",
        "print(tf.math.argmax(x_argmax))"
      ],
      "metadata": {
        "colab": {
          "base_uri": "https://localhost:8080/"
        },
        "id": "puxfOrx4NWCT",
        "outputId": "da89fb92-1365-43f6-a0f3-6341bf4690c3"
      },
      "execution_count": 50,
      "outputs": [
        {
          "output_type": "stream",
          "name": "stdout",
          "text": [
            "tf.Tensor(2, shape=(), dtype=int64)\n"
          ]
        }
      ]
    },
    {
      "cell_type": "code",
      "source": [
        "x_argmax = tf.constant([200,20,30,3,6])\n",
        "\n",
        "print(tf.math.argmax(x_argmax))"
      ],
      "metadata": {
        "colab": {
          "base_uri": "https://localhost:8080/"
        },
        "id": "f0fNlwlnOGWS",
        "outputId": "069651ac-fd75-478a-9331-0c9f7781c1e2"
      },
      "execution_count": 51,
      "outputs": [
        {
          "output_type": "stream",
          "name": "stdout",
          "text": [
            "tf.Tensor(0, shape=(), dtype=int64)\n"
          ]
        }
      ]
    },
    {
      "cell_type": "code",
      "source": [
        "x_argmin= tf.constant([2,20,30,3,6])\n",
        "\n",
        "print(tf.math.argmin(x_argmin))"
      ],
      "metadata": {
        "colab": {
          "base_uri": "https://localhost:8080/"
        },
        "id": "yTXpx1bAOwr2",
        "outputId": "4e4e7717-5450-4d82-cdb6-299e63a6c855"
      },
      "execution_count": 52,
      "outputs": [
        {
          "output_type": "stream",
          "name": "stdout",
          "text": [
            "tf.Tensor(0, shape=(), dtype=int64)\n"
          ]
        }
      ]
    },
    {
      "cell_type": "code",
      "source": [
        "x_argmin= tf.constant([2,20,30,3,1])\n",
        "\n",
        "print(tf.math.argmin(x_argmin))"
      ],
      "metadata": {
        "colab": {
          "base_uri": "https://localhost:8080/"
        },
        "id": "LaExOG7rO1bi",
        "outputId": "7ad3b929-05bc-40cb-ef31-d9fd8a59492f"
      },
      "execution_count": 53,
      "outputs": [
        {
          "output_type": "stream",
          "name": "stdout",
          "text": [
            "tf.Tensor(4, shape=(), dtype=int64)\n"
          ]
        }
      ]
    },
    {
      "cell_type": "code",
      "source": [
        "x_argmax = tf.constant([[2,20,30,3,6],\n",
        "                       [3,11,16,1,8],\n",
        "                       [14,45,23,5,27]])\n",
        "\n",
        "print(x_argmax.shape)\n",
        "print(tf.math.argmax(x_argmax, axis=0)) # Column\n",
        "print(tf.math.argmax(x_argmax, axis=1)) # Row"
      ],
      "metadata": {
        "colab": {
          "base_uri": "https://localhost:8080/"
        },
        "id": "SuT2NC7pO_3T",
        "outputId": "32d8863d-1f99-4845-9d11-94ae7634368b"
      },
      "execution_count": 54,
      "outputs": [
        {
          "output_type": "stream",
          "name": "stdout",
          "text": [
            "(3, 5)\n",
            "tf.Tensor([2 2 0 2 2], shape=(5,), dtype=int64)\n",
            "tf.Tensor([2 2 1], shape=(3,), dtype=int64)\n"
          ]
        }
      ]
    },
    {
      "cell_type": "code",
      "source": [
        "x_argmin = tf.constant([[2,20,30,3,6],\n",
        "                       [3,11,16,1,8],\n",
        "                       [14,45,23,5,27]])\n",
        "\n",
        "print(x_argmin.shape)\n",
        "print(tf.math.argmin(x_argmin, axis=0))\n",
        "print(tf.math.argmin(x_argmin, axis=1))"
      ],
      "metadata": {
        "colab": {
          "base_uri": "https://localhost:8080/"
        },
        "id": "DVqge9HZQz_7",
        "outputId": "738c7019-9798-4cec-e620-5d9ba85e30bc"
      },
      "execution_count": 55,
      "outputs": [
        {
          "output_type": "stream",
          "name": "stdout",
          "text": [
            "(3, 5)\n",
            "tf.Tensor([0 1 1 1 0], shape=(5,), dtype=int64)\n",
            "tf.Tensor([0 3 3], shape=(3,), dtype=int64)\n"
          ]
        }
      ]
    },
    {
      "cell_type": "code",
      "source": [
        "x = tf.constant([[2,2], [3,3]])\n",
        "y = tf.constant([[3,0], [1,4]])\n",
        "tf.pow(x,y)"
      ],
      "metadata": {
        "colab": {
          "base_uri": "https://localhost:8080/"
        },
        "id": "GojOAEYUSLKP",
        "outputId": "1b422411-2edd-4db9-f80c-148ab0d7267f"
      },
      "execution_count": 56,
      "outputs": [
        {
          "output_type": "execute_result",
          "data": {
            "text/plain": [
              "<tf.Tensor: shape=(2, 2), dtype=int32, numpy=\n",
              "array([[ 8,  1],\n",
              "       [ 3, 81]], dtype=int32)>"
            ]
          },
          "metadata": {},
          "execution_count": 56
        }
      ]
    },
    {
      "cell_type": "code",
      "source": [
        "tf.pow(tf.constant(2), tf.constant(3))"
      ],
      "metadata": {
        "colab": {
          "base_uri": "https://localhost:8080/"
        },
        "id": "TqcvTxYhSXBi",
        "outputId": "f527d6b3-257b-4118-bc54-86f19e0e3896"
      },
      "execution_count": 57,
      "outputs": [
        {
          "output_type": "execute_result",
          "data": {
            "text/plain": [
              "<tf.Tensor: shape=(), dtype=int32, numpy=8>"
            ]
          },
          "metadata": {},
          "execution_count": 57
        }
      ]
    },
    {
      "cell_type": "code",
      "source": [
        "tensor_two_d = tf.constant([\n",
        "    [1, 2, 0],\n",
        "    [3, 5, -1],\n",
        "    [1, 5, 6],\n",
        "    [2, 3, 8]\n",
        "] , dtype=tf.float32)\n",
        "\n",
        "\n",
        "print(tf.math.reduce_sum(\n",
        "    tensor_two_d, axis=None, keepdims=False, name=None\n",
        "))\n",
        "\n",
        "print(tf.math.reduce_max(\n",
        "    tensor_two_d, axis=None, keepdims=False, name=None\n",
        "))\n",
        "\n",
        "print(tf.math.reduce_min(\n",
        "    tensor_two_d, axis=None, keepdims=False, name=None\n",
        "))"
      ],
      "metadata": {
        "colab": {
          "base_uri": "https://localhost:8080/"
        },
        "id": "9ibQu2_1SwDG",
        "outputId": "f6e7e008-4f62-413a-cf5e-2e2ec28ebc9b"
      },
      "execution_count": 58,
      "outputs": [
        {
          "output_type": "stream",
          "name": "stdout",
          "text": [
            "tf.Tensor(35.0, shape=(), dtype=float32)\n",
            "tf.Tensor(8.0, shape=(), dtype=float32)\n",
            "tf.Tensor(-1.0, shape=(), dtype=float32)\n"
          ]
        }
      ]
    },
    {
      "cell_type": "code",
      "source": [
        "print(tf.math.reduce_sum(\n",
        "    tensor_two_d, axis=0, keepdims=False, name=None\n",
        "))\n",
        "\n",
        "\n",
        "print(tf.math.reduce_sum(\n",
        "    tensor_two_d, axis=1, keepdims=False, name=None\n",
        "))\n",
        "\n",
        "print(tf.math.reduce_mean(\n",
        "    tensor_two_d, axis=1, keepdims=False, name=None\n",
        "))\n",
        "\n",
        "print(tf.math.reduce_std(\n",
        "    tensor_two_d, axis=1, keepdims=False, name=None\n",
        "))\n",
        "\n",
        "print(tf.math.reduce_std(\n",
        "    tensor_two_d, axis=1, keepdims=True, name=None\n",
        "))"
      ],
      "metadata": {
        "colab": {
          "base_uri": "https://localhost:8080/"
        },
        "id": "0nqxIr5VTpeG",
        "outputId": "f7488dc9-0cf4-4617-e45b-1be5881ad6de"
      },
      "execution_count": 59,
      "outputs": [
        {
          "output_type": "stream",
          "name": "stdout",
          "text": [
            "tf.Tensor([ 7. 15. 13.], shape=(3,), dtype=float32)\n",
            "tf.Tensor([ 3.  7. 12. 13.], shape=(4,), dtype=float32)\n",
            "tf.Tensor([1.        2.3333333 4.        4.3333335], shape=(4,), dtype=float32)\n",
            "tf.Tensor([0.8164966 2.4944384 2.1602468 2.6246693], shape=(4,), dtype=float32)\n",
            "tf.Tensor(\n",
            "[[0.8164966]\n",
            " [2.4944384]\n",
            " [2.1602468]\n",
            " [2.6246693]], shape=(4, 1), dtype=float32)\n"
          ]
        }
      ]
    },
    {
      "cell_type": "code",
      "source": [
        "tf.math.top_k(tensor_two_d, k=1, sorted=True)"
      ],
      "metadata": {
        "colab": {
          "base_uri": "https://localhost:8080/"
        },
        "id": "Ax2RJ6GlZ8a0",
        "outputId": "db5836c8-1d8a-415b-ef72-b3fe1f6917bb"
      },
      "execution_count": 60,
      "outputs": [
        {
          "output_type": "execute_result",
          "data": {
            "text/plain": [
              "TopKV2(values=<tf.Tensor: shape=(4, 1), dtype=float32, numpy=\n",
              "array([[2.],\n",
              "       [5.],\n",
              "       [6.],\n",
              "       [8.]], dtype=float32)>, indices=<tf.Tensor: shape=(4, 1), dtype=int32, numpy=\n",
              "array([[1],\n",
              "       [1],\n",
              "       [2],\n",
              "       [2]], dtype=int32)>)"
            ]
          },
          "metadata": {},
          "execution_count": 60
        }
      ]
    },
    {
      "cell_type": "code",
      "source": [
        "x1 = tf.constant([[1,2,0],\n",
        "                  [3,5,-1]])\n",
        "x2 = tf.constant([[1,2,0,2],\n",
        "                  [3,5,-1,2],\n",
        "                  [4,5,6,2]])\n",
        "\n",
        "print(x1, x2)\n",
        "tf.linalg.matmul(\n",
        "    x1,x2, transpose_a=False, transpose_b=False, adjoint_a=False, adjoint_b=False, a_is_sparse=False, b_is_sparse=False,\n",
        "    output_type=None,\n",
        "    name=None\n",
        ")\n"
      ],
      "metadata": {
        "colab": {
          "base_uri": "https://localhost:8080/"
        },
        "id": "pdMh6z5hdozy",
        "outputId": "e0ea0dcb-0353-40a8-e92d-2f9ed7c45fbb"
      },
      "execution_count": 61,
      "outputs": [
        {
          "output_type": "stream",
          "name": "stdout",
          "text": [
            "tf.Tensor(\n",
            "[[ 1  2  0]\n",
            " [ 3  5 -1]], shape=(2, 3), dtype=int32) tf.Tensor(\n",
            "[[ 1  2  0  2]\n",
            " [ 3  5 -1  2]\n",
            " [ 4  5  6  2]], shape=(3, 4), dtype=int32)\n"
          ]
        },
        {
          "output_type": "execute_result",
          "data": {
            "text/plain": [
              "<tf.Tensor: shape=(2, 4), dtype=int32, numpy=\n",
              "array([[  7,  12,  -2,   6],\n",
              "       [ 14,  26, -11,  14]], dtype=int32)>"
            ]
          },
          "metadata": {},
          "execution_count": 61
        }
      ]
    },
    {
      "cell_type": "code",
      "source": [
        "print(x1@x2)"
      ],
      "metadata": {
        "colab": {
          "base_uri": "https://localhost:8080/"
        },
        "id": "SVOkE_g0gzOX",
        "outputId": "d483277a-e0b1-4267-df80-4e146ba7a67e"
      },
      "execution_count": 62,
      "outputs": [
        {
          "output_type": "stream",
          "name": "stdout",
          "text": [
            "tf.Tensor(\n",
            "[[  7  12  -2   6]\n",
            " [ 14  26 -11  14]], shape=(2, 4), dtype=int32)\n"
          ]
        }
      ]
    },
    {
      "cell_type": "code",
      "source": [
        "print(x1)\n",
        "print()\n",
        "print(tf.transpose(x1))"
      ],
      "metadata": {
        "colab": {
          "base_uri": "https://localhost:8080/"
        },
        "id": "hFKNJZXthQJO",
        "outputId": "ee5281d2-9a7c-4b8a-f9eb-24c5451f59d5"
      },
      "execution_count": 63,
      "outputs": [
        {
          "output_type": "stream",
          "name": "stdout",
          "text": [
            "tf.Tensor(\n",
            "[[ 1  2  0]\n",
            " [ 3  5 -1]], shape=(2, 3), dtype=int32)\n",
            "\n",
            "tf.Tensor(\n",
            "[[ 1  3]\n",
            " [ 2  5]\n",
            " [ 0 -1]], shape=(3, 2), dtype=int32)\n"
          ]
        }
      ]
    },
    {
      "cell_type": "code",
      "source": [
        "print(x2)\n",
        "print()\n",
        "print(tf.transpose(x2))"
      ],
      "metadata": {
        "colab": {
          "base_uri": "https://localhost:8080/"
        },
        "id": "fblp4A0XhiTG",
        "outputId": "778eb393-a2ba-443c-f09c-d2a8f03ebc63"
      },
      "execution_count": 64,
      "outputs": [
        {
          "output_type": "stream",
          "name": "stdout",
          "text": [
            "tf.Tensor(\n",
            "[[ 1  2  0  2]\n",
            " [ 3  5 -1  2]\n",
            " [ 4  5  6  2]], shape=(3, 4), dtype=int32)\n",
            "\n",
            "tf.Tensor(\n",
            "[[ 1  3  4]\n",
            " [ 2  5  5]\n",
            " [ 0 -1  6]\n",
            " [ 2  2  2]], shape=(4, 3), dtype=int32)\n"
          ]
        }
      ]
    },
    {
      "cell_type": "code",
      "source": [
        "x1 = tf.constant([[1,2,0],\n",
        "                  [3,5,-1]])\n",
        "x2 = tf.constant([[1,2,0,2],\n",
        "                  [3,5,-1,2],\n",
        "                  [4,5,6,2]])\n",
        "x3 = tf.constant([[1,3,4,7],\n",
        "                  [5,9,7,8]])\n",
        "\n",
        "\n",
        "print(x1.shape, x2.shape, x3.shape, tf.transpose(x3).shape )\n",
        "print()\n",
        "tf.linalg.matmul(\n",
        "    x2,x3, transpose_a=False, transpose_b=True, adjoint_a=False, adjoint_b=False, a_is_sparse=False, b_is_sparse=False,\n",
        "    output_type=None,\n",
        "    name=None\n",
        ")\n"
      ],
      "metadata": {
        "colab": {
          "base_uri": "https://localhost:8080/"
        },
        "id": "farZ8e68lVvd",
        "outputId": "9b9fa56b-0f9f-4f2b-dcbf-2ee4b32cf31f"
      },
      "execution_count": 65,
      "outputs": [
        {
          "output_type": "stream",
          "name": "stdout",
          "text": [
            "(2, 3) (3, 4) (2, 4) (4, 2)\n",
            "\n"
          ]
        },
        {
          "output_type": "execute_result",
          "data": {
            "text/plain": [
              "<tf.Tensor: shape=(3, 2), dtype=int32, numpy=\n",
              "array([[ 21,  39],\n",
              "       [ 28,  69],\n",
              "       [ 57, 123]], dtype=int32)>"
            ]
          },
          "metadata": {},
          "execution_count": 65
        }
      ]
    },
    {
      "cell_type": "code",
      "source": [
        "x1 = tf.constant([\n",
        "\n",
        "[[1,2],\n",
        "[3,5]],\n",
        "\n",
        "[[10,2],\n",
        " [1,0]],\n",
        "\n",
        "[[5,0],\n",
        " [2,7]],\n",
        "\n",
        "[[1,9],\n",
        "[-3,32]]\n",
        "\n",
        "])\n",
        "\n",
        "x2 = tf.constant([\n",
        "\n",
        "[[3,5,7],\n",
        "[9,6,0]],\n",
        "\n",
        "[[3,8,2],\n",
        " [7,6,1]],\n",
        "\n",
        "[[3,2,1],\n",
        " [9,7,3]],\n",
        "\n",
        "[[0,5,6],\n",
        "[1,-3,9]]\n",
        "\n",
        "])\n",
        "\n",
        "print(tf.linalg.matmul(x1,x2))"
      ],
      "metadata": {
        "colab": {
          "base_uri": "https://localhost:8080/"
        },
        "id": "OYb9Kuw6pmcd",
        "outputId": "1c7af5f3-4427-4fad-8ba6-4e9a8e45f179"
      },
      "execution_count": 66,
      "outputs": [
        {
          "output_type": "stream",
          "name": "stdout",
          "text": [
            "tf.Tensor(\n",
            "[[[  21   17    7]\n",
            "  [  54   45   21]]\n",
            "\n",
            " [[  44   92   22]\n",
            "  [   3    8    2]]\n",
            "\n",
            " [[  15   10    5]\n",
            "  [  69   53   23]]\n",
            "\n",
            " [[   9  -22   87]\n",
            "  [  32 -111  270]]], shape=(4, 2, 3), dtype=int32)\n"
          ]
        }
      ]
    },
    {
      "cell_type": "code",
      "source": [
        "x1 = tf.constant(\n",
        "[[10,2],\n",
        " [1,0]]\n",
        ")\n",
        "\n",
        "x2 = tf.constant(\n",
        "[[3,8,2],\n",
        " [7,6,1]]\n",
        ")\n",
        "\n",
        "print(tf.linalg.matmul(x1,x2))"
      ],
      "metadata": {
        "colab": {
          "base_uri": "https://localhost:8080/"
        },
        "id": "KhMhb-7Eq4Fj",
        "outputId": "e35d715c-78ec-4647-b460-f95fdec11b4c"
      },
      "execution_count": 67,
      "outputs": [
        {
          "output_type": "stream",
          "name": "stdout",
          "text": [
            "tf.Tensor(\n",
            "[[44 92 22]\n",
            " [ 3  8  2]], shape=(2, 3), dtype=int32)\n"
          ]
        }
      ]
    },
    {
      "cell_type": "code",
      "source": [
        "tesnor_two_d_m_n = tf.constant([\n",
        "    [0,-1,-2],\n",
        "    [1,0,-1],\n",
        "    [2,1,0],\n",
        "    [3,2,1]\n",
        "], dtype=tf.float16)\n",
        "\n",
        "tesnor_two_d_n_m = tf.constant([\n",
        "    [0,1,2],\n",
        "    [-1,0,1],\n",
        "    [-2,-1,0],\n",
        "    [-3,-2,-1]\n",
        "], dtype=tf.float16)"
      ],
      "metadata": {
        "id": "Ew2KBDirmb2s"
      },
      "execution_count": null,
      "outputs": []
    },
    {
      "cell_type": "code",
      "source": [
        "tensor_two_d = tf.constant([\n",
        "    [1,-2,0],\n",
        "    [3,5,100],\n",
        "    [1,5,6],\n",
        "    [2,3,8]\n",
        "], dtype=tf.float32)\n",
        "\n",
        "tensor_out_d = tf.constant([\n",
        "    [1,0,0],\n",
        "    [0,5,0],\n",
        "    [0,0,6],\n",
        "    [0,0,0]\n",
        "], dtype=tf.float32)\n",
        "\n",
        "tf.linalg.band_part(tensor_two_d, 0, 0)"
      ],
      "metadata": {
        "colab": {
          "base_uri": "https://localhost:8080/"
        },
        "id": "ukaWRX25oNrK",
        "outputId": "50b32451-bfaf-4cf4-a5fe-e8a04aa691f3"
      },
      "execution_count": 78,
      "outputs": [
        {
          "output_type": "execute_result",
          "data": {
            "text/plain": [
              "<tf.Tensor: shape=(4, 3), dtype=float32, numpy=\n",
              "array([[1., 0., 0.],\n",
              "       [0., 5., 0.],\n",
              "       [0., 0., 6.],\n",
              "       [0., 0., 0.]], dtype=float32)>"
            ]
          },
          "metadata": {},
          "execution_count": 78
        }
      ]
    },
    {
      "cell_type": "code",
      "source": [
        "tf.linalg.band_part(tensor_two_d, -1, 0)"
      ],
      "metadata": {
        "colab": {
          "base_uri": "https://localhost:8080/"
        },
        "id": "b22AUHlDpAi5",
        "outputId": "4f8e4274-4a25-4134-baad-6f537ce286d6"
      },
      "execution_count": 71,
      "outputs": [
        {
          "output_type": "execute_result",
          "data": {
            "text/plain": [
              "<tf.Tensor: shape=(4, 3), dtype=float16, numpy=\n",
              "array([[1., 0., 0.],\n",
              "       [3., 5., 0.],\n",
              "       [1., 5., 6.],\n",
              "       [2., 3., 8.]], dtype=float16)>"
            ]
          },
          "metadata": {},
          "execution_count": 71
        }
      ]
    },
    {
      "cell_type": "code",
      "source": [
        "tf.linalg.band_part(tensor_two_d, 0, -1)"
      ],
      "metadata": {
        "colab": {
          "base_uri": "https://localhost:8080/"
        },
        "id": "Urvg39P-pGGD",
        "outputId": "13270e27-d399-48ed-b62a-062fbcd844b1"
      },
      "execution_count": 72,
      "outputs": [
        {
          "output_type": "execute_result",
          "data": {
            "text/plain": [
              "<tf.Tensor: shape=(4, 3), dtype=float16, numpy=\n",
              "array([[  1.,  -2.,   0.],\n",
              "       [  0.,   5., 100.],\n",
              "       [  0.,   0.,   6.],\n",
              "       [  0.,   0.,   0.]], dtype=float16)>"
            ]
          },
          "metadata": {},
          "execution_count": 72
        }
      ]
    },
    {
      "cell_type": "code",
      "source": [
        "tensor_two_d = tf.constant([\n",
        "    [1,-2,0,5],\n",
        "    [3,5,100,5],\n",
        "    [1,5,6,5],\n",
        "    [2,3,8,5]\n",
        "], dtype=tf.float32)\n",
        "\n",
        "tensor_two_d_inv = tf.linalg.inv(tensor_two_d)\n",
        "\n",
        "tensor_two_d_inv"
      ],
      "metadata": {
        "colab": {
          "base_uri": "https://localhost:8080/"
        },
        "id": "9_oLqWI0pptY",
        "outputId": "a5364a12-6f8e-4b5c-f4d9-4e90a3580a82"
      },
      "execution_count": 79,
      "outputs": [
        {
          "output_type": "execute_result",
          "data": {
            "text/plain": [
              "<tf.Tensor: shape=(4, 4), dtype=float32, numpy=\n",
              "array([[-0.31023097, -0.04290427, -0.7326733 ,  1.0858085 ],\n",
              "       [-0.14851484, -0.00990098,  0.13861386,  0.01980195],\n",
              "       [ 0.00660066,  0.01155115,  0.00495049, -0.02310231],\n",
              "       [ 0.20264027,  0.00462046,  0.2019802 , -0.20924093]],\n",
              "      dtype=float32)>"
            ]
          },
          "metadata": {},
          "execution_count": 79
        }
      ]
    },
    {
      "cell_type": "code",
      "source": [
        "tensor_two_d@tensor_two_d_inv"
      ],
      "metadata": {
        "colab": {
          "base_uri": "https://localhost:8080/"
        },
        "id": "h77zeP7AqVdh",
        "outputId": "fa32c506-5d7a-4586-ce57-ac0051e0b303"
      },
      "execution_count": 80,
      "outputs": [
        {
          "output_type": "execute_result",
          "data": {
            "text/plain": [
              "<tf.Tensor: shape=(4, 4), dtype=float32, numpy=\n",
              "array([[ 1.0000000e+00,  1.4901161e-08,  0.0000000e+00,  0.0000000e+00],\n",
              "       [ 0.0000000e+00,  1.0000000e+00, -2.3841858e-07,  5.9604645e-08],\n",
              "       [ 8.9406967e-08,  5.9604645e-08,  1.0000000e+00, -1.7881393e-07],\n",
              "       [ 1.1920929e-07,  6.1467290e-08,  0.0000000e+00,  9.9999976e-01]],\n",
              "      dtype=float32)>"
            ]
          },
          "metadata": {},
          "execution_count": 80
        }
      ]
    },
    {
      "cell_type": "code",
      "source": [
        "s,u,v = tf.linalg.svd(tensor_two_d)\n",
        "print(s)\n",
        "print(u)\n",
        "print(v)"
      ],
      "metadata": {
        "colab": {
          "base_uri": "https://localhost:8080/"
        },
        "id": "63Pon6ECq7br",
        "outputId": "261468cb-a690-4626-8675-6cc9a47fdc3f"
      },
      "execution_count": 81,
      "outputs": [
        {
          "output_type": "stream",
          "name": "stdout",
          "text": [
            "tf.Tensor([100.86311     9.125967    4.563496    0.7213296], shape=(4,), dtype=float32)\n",
            "tf.Tensor(\n",
            "[[ 0.00204138  0.4081415  -0.8779366  -0.2502872 ]\n",
            " [ 0.9943236  -0.09612507 -0.03357515 -0.03086856]\n",
            " [ 0.06512708  0.6842663   0.47492224 -0.5495336 ]\n",
            " [ 0.08410992  0.59662384  0.0504869   0.7965028 ]], shape=(4, 4), dtype=float32)\n",
            "tf.Tensor(\n",
            "[[ 0.0319082   0.21885695 -0.08825826  0.97123337]\n",
            " [ 0.05498047  0.4289185   0.90151685 -0.01653551]\n",
            " [ 0.9963603  -0.08042064 -0.02280861 -0.01668444]\n",
            " [ 0.05678995  0.8727331  -0.4230338  -0.23696883]], shape=(4, 4), dtype=float32)\n"
          ]
        }
      ]
    },
    {
      "cell_type": "code",
      "source": [
        "tensor_three_d = tf.constant([\n",
        "\n",
        "[[1,2,0],\n",
        "[3,5,-1]],\n",
        "\n",
        "[[10,2,0],\n",
        " [1,0,2]],\n",
        "\n",
        "[[5,8,0],\n",
        " [2,7,0]],\n",
        "\n",
        "[[2,1,9],\n",
        "[4,-3,32]]\n",
        "\n",
        "])\n",
        "\n",
        "print(tensor_three_d.shape)\n",
        "print()\n",
        "print(tf.expand_dims(tensor_three_d, axis=0).shape)"
      ],
      "metadata": {
        "colab": {
          "base_uri": "https://localhost:8080/"
        },
        "id": "0vVYfrBgQPLo",
        "outputId": "7e36910f-babd-43e0-ad68-68bb5aca0ed7"
      },
      "execution_count": 85,
      "outputs": [
        {
          "output_type": "stream",
          "name": "stdout",
          "text": [
            "(4, 2, 3)\n",
            "\n",
            "(1, 4, 2, 3)\n"
          ]
        }
      ]
    },
    {
      "cell_type": "code",
      "source": [
        "x = tf.constant([[[2,3,4,5]]])\n",
        "print(x.shape)\n",
        "x_expanded = tf.expand_dims(x, axis=0)\n",
        "print(x_expanded.shape)\n",
        "x_squeezed = tf.squeeze(x_expanded, axis=0)\n",
        "print(x_squeezed.shape)\n",
        "\n",
        "for i in range(2):\n",
        "    x_squeezed = tf.squeeze(x_squeezed, axis=0)\n",
        "print(x_squeezed.shape)\n"
      ],
      "metadata": {
        "colab": {
          "base_uri": "https://localhost:8080/"
        },
        "id": "zw4nojJNQUnX",
        "outputId": "ab870481-8d63-4c9e-ad1d-ce45da6b0197"
      },
      "execution_count": 93,
      "outputs": [
        {
          "output_type": "stream",
          "name": "stdout",
          "text": [
            "(1, 1, 4)\n",
            "(1, 1, 1, 4)\n",
            "(1, 1, 4)\n",
            "(4,)\n"
          ]
        }
      ]
    },
    {
      "cell_type": "code",
      "source": [
        "tensor_three_d = tf.constant([\n",
        "\n",
        "[[1,2,0],\n",
        "[3,5,-1]],\n",
        "\n",
        "[[10,2,0],\n",
        " [1,0,2]],\n",
        "\n",
        "[[5,8,0],\n",
        " [2,7,0]],\n",
        "\n",
        "[[2,1,9],\n",
        "[4,-3,32]]\n",
        "\n",
        "])\n",
        "\n",
        "print(tensor_three_d.shape)\n",
        "print()\n",
        "x_exp = tf.expand_dims(tensor_three_d, axis=3)\n",
        "print(x_exp.shape)\n",
        "print()\n",
        "print(tf.squeeze(x_exp, axis= 3).shape)\n",
        "print()\n",
        "print(tf.reshape(x_exp, [4,2,3]).shape)"
      ],
      "metadata": {
        "colab": {
          "base_uri": "https://localhost:8080/"
        },
        "id": "ECj17xXySOOu",
        "outputId": "bf184d5d-ae76-4f90-ee1c-529c75f6ed57"
      },
      "execution_count": 98,
      "outputs": [
        {
          "output_type": "stream",
          "name": "stdout",
          "text": [
            "(4, 2, 3)\n",
            "\n",
            "(4, 2, 3, 1)\n",
            "\n",
            "(4, 2, 3)\n",
            "\n",
            "(4, 2, 3)\n"
          ]
        }
      ]
    },
    {
      "cell_type": "code",
      "source": [
        "x_reshape = tf.constant([[3,5,6,6],\n",
        "                         [4,6,-1,2]])\n",
        "print(tf.reshape(x_reshape, [8,1]))\n",
        "print(tf.reshape(x_reshape, [1,8]))\n",
        "print(tf.reshape(x_reshape, [4,2]))\n",
        "print(tf.reshape(x_reshape, [1,-1]))\n",
        "print(tf.reshape(x_reshape, [-1,1]))"
      ],
      "metadata": {
        "colab": {
          "base_uri": "https://localhost:8080/"
        },
        "id": "cq2dxy9kTB3j",
        "outputId": "4c096076-a977-47ad-d68c-74fe55d91d26"
      },
      "execution_count": 107,
      "outputs": [
        {
          "output_type": "stream",
          "name": "stdout",
          "text": [
            "tf.Tensor(\n",
            "[[ 3]\n",
            " [ 5]\n",
            " [ 6]\n",
            " [ 6]\n",
            " [ 4]\n",
            " [ 6]\n",
            " [-1]\n",
            " [ 2]], shape=(8, 1), dtype=int32)\n",
            "tf.Tensor([[ 3  5  6  6  4  6 -1  2]], shape=(1, 8), dtype=int32)\n",
            "tf.Tensor(\n",
            "[[ 3  5]\n",
            " [ 6  6]\n",
            " [ 4  6]\n",
            " [-1  2]], shape=(4, 2), dtype=int32)\n",
            "tf.Tensor([[ 3  5  6  6  4  6 -1  2]], shape=(1, 8), dtype=int32)\n",
            "tf.Tensor(\n",
            "[[ 3]\n",
            " [ 5]\n",
            " [ 6]\n",
            " [ 6]\n",
            " [ 4]\n",
            " [ 6]\n",
            " [-1]\n",
            " [ 2]], shape=(8, 1), dtype=int32)\n"
          ]
        }
      ]
    },
    {
      "cell_type": "code",
      "source": [
        "t1 = [[1,2,3],[4,5,6]]\n",
        "t2 = [[7,8,9],[10,11,12]]\n",
        "print(tf.concat([t1,t2], axis=0))\n",
        "print()\n",
        "print(tf.concat([t1,t2], axis=1))"
      ],
      "metadata": {
        "colab": {
          "base_uri": "https://localhost:8080/"
        },
        "id": "RQ2c9Y5MVXl2",
        "outputId": "20beec1e-4ca2-4281-8406-0fdeb87f20a9"
      },
      "execution_count": 110,
      "outputs": [
        {
          "output_type": "stream",
          "name": "stdout",
          "text": [
            "tf.Tensor(\n",
            "[[ 1  2  3]\n",
            " [ 4  5  6]\n",
            " [ 7  8  9]\n",
            " [10 11 12]], shape=(4, 3), dtype=int32)\n",
            "\n",
            "tf.Tensor(\n",
            "[[ 1  2  3  7  8  9]\n",
            " [ 4  5  6 10 11 12]], shape=(2, 6), dtype=int32)\n"
          ]
        }
      ]
    },
    {
      "cell_type": "code",
      "source": [
        "tf.stack([t1,t2], axis=0)"
      ],
      "metadata": {
        "colab": {
          "base_uri": "https://localhost:8080/"
        },
        "id": "uR3A4n3aXPcO",
        "outputId": "6b2285a5-e31a-4bff-af52-cd8a77a9bf45"
      },
      "execution_count": 111,
      "outputs": [
        {
          "output_type": "execute_result",
          "data": {
            "text/plain": [
              "<tf.Tensor: shape=(2, 2, 3), dtype=int32, numpy=\n",
              "array([[[ 1,  2,  3],\n",
              "        [ 4,  5,  6]],\n",
              "\n",
              "       [[ 7,  8,  9],\n",
              "        [10, 11, 12]]], dtype=int32)>"
            ]
          },
          "metadata": {},
          "execution_count": 111
        }
      ]
    },
    {
      "cell_type": "code",
      "source": [
        "t = tf.constant([[1,2,3],\n",
        "                [4,5,6]])\n",
        "\n",
        "paddings = tf.constant([[2,5],[2,3]])\n",
        "tf.pad(t, paddings, \"CONSTANT\", constant_values=0)"
      ],
      "metadata": {
        "colab": {
          "base_uri": "https://localhost:8080/"
        },
        "id": "CSuf2-JRXUuL",
        "outputId": "6a18354a-8a8c-4e17-d599-e8db70662b88"
      },
      "execution_count": 116,
      "outputs": [
        {
          "output_type": "execute_result",
          "data": {
            "text/plain": [
              "<tf.Tensor: shape=(9, 8), dtype=int32, numpy=\n",
              "array([[0, 0, 0, 0, 0, 0, 0, 0],\n",
              "       [0, 0, 0, 0, 0, 0, 0, 0],\n",
              "       [0, 0, 1, 2, 3, 0, 0, 0],\n",
              "       [0, 0, 4, 5, 6, 0, 0, 0],\n",
              "       [0, 0, 0, 0, 0, 0, 0, 0],\n",
              "       [0, 0, 0, 0, 0, 0, 0, 0],\n",
              "       [0, 0, 0, 0, 0, 0, 0, 0],\n",
              "       [0, 0, 0, 0, 0, 0, 0, 0],\n",
              "       [0, 0, 0, 0, 0, 0, 0, 0]], dtype=int32)>"
            ]
          },
          "metadata": {},
          "execution_count": 116
        }
      ]
    },
    {
      "cell_type": "code",
      "source": [
        "params = tf.constant(['p0', 'p1', 'p2', 'p3', 'p4', 'p5', 'p6'])\n",
        "params[1:4]"
      ],
      "metadata": {
        "colab": {
          "base_uri": "https://localhost:8080/"
        },
        "id": "pT-EsQajdZqV",
        "outputId": "614198d5-9d09-418c-a7ea-40c714d2cdc7"
      },
      "execution_count": 117,
      "outputs": [
        {
          "output_type": "execute_result",
          "data": {
            "text/plain": [
              "<tf.Tensor: shape=(3,), dtype=string, numpy=array([b'p1', b'p2', b'p3'], dtype=object)>"
            ]
          },
          "metadata": {},
          "execution_count": 117
        }
      ]
    },
    {
      "cell_type": "code",
      "source": [
        "tf.gather(params, tf.range(1,4))"
      ],
      "metadata": {
        "colab": {
          "base_uri": "https://localhost:8080/"
        },
        "id": "i-nHs2Oedj6E",
        "outputId": "e7172438-5a3b-408e-f050-9d973f2cfd9f"
      },
      "execution_count": 119,
      "outputs": [
        {
          "output_type": "execute_result",
          "data": {
            "text/plain": [
              "<tf.Tensor: shape=(3,), dtype=string, numpy=array([b'p1', b'p2', b'p3'], dtype=object)>"
            ]
          },
          "metadata": {},
          "execution_count": 119
        }
      ]
    },
    {
      "cell_type": "code",
      "source": [
        "tf.gather(params, [0,5,3])"
      ],
      "metadata": {
        "colab": {
          "base_uri": "https://localhost:8080/"
        },
        "id": "Cdoe8rjLduWQ",
        "outputId": "481fe329-233a-48e4-d960-8607823c6fd9"
      },
      "execution_count": 120,
      "outputs": [
        {
          "output_type": "execute_result",
          "data": {
            "text/plain": [
              "<tf.Tensor: shape=(3,), dtype=string, numpy=array([b'p0', b'p5', b'p3'], dtype=object)>"
            ]
          },
          "metadata": {},
          "execution_count": 120
        }
      ]
    },
    {
      "cell_type": "code",
      "source": [
        "indices = [[0],\n",
        "           [1]]\n",
        "\n",
        "paramns = [['a', 'b'],\n",
        "           ['c', 'd'],\n",
        "           ['e', 'f']]\n",
        "\n",
        "print(tf.gather_nd(paramns, indices))\n",
        "print(tf.gather_nd(paramns, [0]))\n",
        "print(tf.gather_nd(paramns, [2,1]))\n",
        "print(tf.gather_nd(paramns, [0,0]))\n",
        "print(tf.gather_nd(paramns, [2,0]))"
      ],
      "metadata": {
        "colab": {
          "base_uri": "https://localhost:8080/"
        },
        "id": "4r9Tu-IDd_lu",
        "outputId": "03575bd3-2380-464c-9440-8c85f7ce9154"
      },
      "execution_count": 127,
      "outputs": [
        {
          "output_type": "stream",
          "name": "stdout",
          "text": [
            "tf.Tensor(\n",
            "[[b'a' b'b']\n",
            " [b'c' b'd']], shape=(2, 2), dtype=string)\n",
            "tf.Tensor([b'a' b'b'], shape=(2,), dtype=string)\n",
            "tf.Tensor(b'f', shape=(), dtype=string)\n",
            "tf.Tensor(b'a', shape=(), dtype=string)\n",
            "tf.Tensor(b'e', shape=(), dtype=string)\n"
          ]
        }
      ]
    },
    {
      "cell_type": "code",
      "source": [
        "indices = [ [0,1,0], [1,0,1] ]\n",
        "\n",
        "params = [\n",
        "    [['a0', 'b0'],\n",
        "     ['c0', 'd0']],\n",
        "\n",
        "    [['a1', 'b1'],\n",
        "     ['c1', 'd1']]\n",
        "]\n",
        "\n",
        "print(tf.gather_nd(params, indices))\n"
      ],
      "metadata": {
        "colab": {
          "base_uri": "https://localhost:8080/"
        },
        "id": "QBQTPgRNgFUZ",
        "outputId": "a3429349-8aaa-4fde-83d6-5e31cfa325d7"
      },
      "execution_count": 129,
      "outputs": [
        {
          "output_type": "stream",
          "name": "stdout",
          "text": [
            "tf.Tensor([b'c0' b'b1'], shape=(2,), dtype=string)\n"
          ]
        }
      ]
    },
    {
      "cell_type": "code",
      "source": [
        "tensor_two_d = [[1,2,0],\n",
        "                [3,],\n",
        "                [1,5,6,5,6],\n",
        "                [2,3]]\n",
        "\n",
        "tensor_ragged = tf.ragged.constant(tensor_two_d)\n",
        "print(tensor_ragged.shape)\n",
        "print(tensor_ragged)"
      ],
      "metadata": {
        "colab": {
          "base_uri": "https://localhost:8080/"
        },
        "id": "0J6_xsBwnXfe",
        "outputId": "e5624777-dc42-478b-e5f0-6b41bfc4e375"
      },
      "execution_count": 134,
      "outputs": [
        {
          "output_type": "stream",
          "name": "stdout",
          "text": [
            "(4, None)\n",
            "<tf.RaggedTensor [[1, 2, 0], [3], [1, 5, 6, 5, 6], [2, 3]]>\n"
          ]
        }
      ]
    },
    {
      "cell_type": "code",
      "source": [
        "tensor_sparse = tf.sparse.SparseTensor(\n",
        "    indices=[[1,1], [3,4]],\n",
        "    values=[11,56],\n",
        "    dense_shape=[5,6]\n",
        ")\n",
        "\n",
        "print(tensor_sparse)"
      ],
      "metadata": {
        "colab": {
          "base_uri": "https://localhost:8080/"
        },
        "id": "LaWFUq2l0G0Y",
        "outputId": "7d324e6f-591d-4e48-a725-d37fbb516f72"
      },
      "execution_count": 135,
      "outputs": [
        {
          "output_type": "stream",
          "name": "stdout",
          "text": [
            "SparseTensor(indices=tf.Tensor(\n",
            "[[1 1]\n",
            " [3 4]], shape=(2, 2), dtype=int64), values=tf.Tensor([11 56], shape=(2,), dtype=int32), dense_shape=tf.Tensor([5 6], shape=(2,), dtype=int64))\n"
          ]
        }
      ]
    },
    {
      "cell_type": "code",
      "source": [
        "tf.sparse.to_dense(tensor_sparse)"
      ],
      "metadata": {
        "colab": {
          "base_uri": "https://localhost:8080/"
        },
        "id": "ua_CjWjR0XsL",
        "outputId": "b2a197e4-9b4d-48c2-9edf-038e751757b3"
      },
      "execution_count": 136,
      "outputs": [
        {
          "output_type": "execute_result",
          "data": {
            "text/plain": [
              "<tf.Tensor: shape=(5, 6), dtype=int32, numpy=\n",
              "array([[ 0,  0,  0,  0,  0,  0],\n",
              "       [ 0, 11,  0,  0,  0,  0],\n",
              "       [ 0,  0,  0,  0,  0,  0],\n",
              "       [ 0,  0,  0,  0, 56,  0],\n",
              "       [ 0,  0,  0,  0,  0,  0]], dtype=int32)>"
            ]
          },
          "metadata": {},
          "execution_count": 136
        }
      ]
    },
    {
      "cell_type": "code",
      "source": [
        "tensor_string = tf.constant([\"hello\", \"i am\", \" a string\"])\n",
        "print(tensor_string)"
      ],
      "metadata": {
        "colab": {
          "base_uri": "https://localhost:8080/"
        },
        "id": "fFAK_zUX0Z7Z",
        "outputId": "cbf71d5d-425f-4488-bf62-c5ad7ca35b3f"
      },
      "execution_count": 138,
      "outputs": [
        {
          "output_type": "stream",
          "name": "stdout",
          "text": [
            "tf.Tensor([b'hello' b'i am' b' a string'], shape=(3,), dtype=string)\n"
          ]
        }
      ]
    },
    {
      "cell_type": "code",
      "source": [
        "x = tf.constant([1,2])\n",
        "x_var = tf.Variable(x, name='var1')\n",
        "print(x_var)"
      ],
      "metadata": {
        "colab": {
          "base_uri": "https://localhost:8080/"
        },
        "id": "1-AT8Thf1Ka7",
        "outputId": "5d4d3bd2-f5a0-4971-df58-6a4d525baa39"
      },
      "execution_count": 141,
      "outputs": [
        {
          "output_type": "stream",
          "name": "stdout",
          "text": [
            "<tf.Variable 'var1:0' shape=(2,) dtype=int32, numpy=array([1, 2], dtype=int32)>\n"
          ]
        }
      ]
    },
    {
      "cell_type": "code",
      "source": [
        "x_var.assign_sub([3,4])"
      ],
      "metadata": {
        "colab": {
          "base_uri": "https://localhost:8080/"
        },
        "id": "pn0fK5kb710W",
        "outputId": "d1082f36-f7cd-43a4-dcf1-a5c0d294d7b0"
      },
      "execution_count": 142,
      "outputs": [
        {
          "output_type": "execute_result",
          "data": {
            "text/plain": [
              "<tf.Variable 'UnreadVariable' shape=(2,) dtype=int32, numpy=array([-2, -2], dtype=int32)>"
            ]
          },
          "metadata": {},
          "execution_count": 142
        }
      ]
    },
    {
      "cell_type": "code",
      "source": [
        "x_var.assign_add([2,2])"
      ],
      "metadata": {
        "colab": {
          "base_uri": "https://localhost:8080/"
        },
        "id": "JkIcZqLc8OTG",
        "outputId": "56339816-055d-4ffa-9542-753a3e2778ad"
      },
      "execution_count": 143,
      "outputs": [
        {
          "output_type": "execute_result",
          "data": {
            "text/plain": [
              "<tf.Variable 'UnreadVariable' shape=(2,) dtype=int32, numpy=array([0, 0], dtype=int32)>"
            ]
          },
          "metadata": {},
          "execution_count": 143
        }
      ]
    },
    {
      "cell_type": "code",
      "source": [
        "with tf.device('GPU:0'):\n",
        "  x_var = tf.Variable(0.2)\n",
        "with tf.device('CPU:0'):\n",
        "  x_tensor = tf.constant(0.2)\n",
        "\n",
        "print(x_var.device)\n",
        "print(x_tensor.device)"
      ],
      "metadata": {
        "colab": {
          "base_uri": "https://localhost:8080/"
        },
        "id": "31QQLceTXasF",
        "outputId": "64635af9-4416-4b58-da8f-b83b8cdce55d"
      },
      "execution_count": 152,
      "outputs": [
        {
          "output_type": "stream",
          "name": "stdout",
          "text": [
            "/job:localhost/replica:0/task:0/device:CPU:0\n",
            "/job:localhost/replica:0/task:0/device:CPU:0\n"
          ]
        }
      ]
    }
  ]
}